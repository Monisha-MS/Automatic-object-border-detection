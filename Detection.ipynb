{
 "cells": [
  {
   "cell_type": "code",
   "execution_count": 3,
   "id": "99e05da5",
   "metadata": {},
   "outputs": [],
   "source": [
    "# Importing libraries\n",
    "import cv2\n",
    "import numpy as np\n",
    "\n",
    "# Read image\n",
    "image = cv2.imread(r\"C:\\Users\\Monisha\\Downloads\\wallpaperflare.com_wallpaper (1).jpg\")\n",
    "\n",
    "#Resize image\n",
    "resized_image = cv2.resize(image, (1000, 700))\n",
    "\n",
    "# Select ROI\n",
    "r = cv2.selectROI(\"select the area\", resized_image)\n",
    "\n",
    "# Crop image\n",
    "cropped_image = resized_image[int(r[1]):int(r[1]+r[3]),int(r[0]):int(r[0]+r[2])]\n",
    "coordinates=(r[0], r[1])\n",
    "\n",
    "# Display cropped image\n",
    "#cv2.imshow(\"Cropped image\", cropped_image)\n",
    "cv2.imwrite(\"Cropped_image.jpg\", cropped_image)\n",
    "cv2.waitKey(10000)\n",
    "cv2.destroyAllWindows()"
   ]
  },
  {
   "cell_type": "code",
   "execution_count": 4,
   "id": "61b00e88",
   "metadata": {},
   "outputs": [],
   "source": [
    "# bg_removal\n",
    "\n",
    "from rembg import remove\n",
    "from PIL import Image\n",
    "\n",
    "input_path = 'Cropped_image.jpg'\n",
    "output_path = 'bg_removed.png'\n",
    "\n",
    "input = Image.open(input_path)\n",
    "output = remove(input)\n",
    "output.save(output_path)"
   ]
  },
  {
   "cell_type": "code",
   "execution_count": 6,
   "id": "5c7232e8",
   "metadata": {},
   "outputs": [
    {
     "data": {
      "text/plain": [
       "True"
      ]
     },
     "execution_count": 6,
     "metadata": {},
     "output_type": "execute_result"
    }
   ],
   "source": [
    "# contour\n",
    "im = cv2.imread( 'bg_removed.png',0)\n",
    "contours, hierarchy = cv2.findContours(im.copy(), cv2.RETR_EXTERNAL, cv2.CHAIN_APPROX_NONE)\n",
    "overlay = np.zeros_like(im)\n",
    "cv2.drawContours(overlay, contours, -1, 255, 3)\n",
    "cv2.imwrite('overlay.jpg', overlay)\n",
    "\n",
    "#cv2.imshow('Contour', overlay)\n",
    "#cv2.waitKey(10000)\n",
    "#cv2.destroyAllWindows()"
   ]
  },
  {
   "cell_type": "code",
   "execution_count": 7,
   "id": "8e7d14fe",
   "metadata": {},
   "outputs": [],
   "source": [
    "# Displaying the coordinates where the overlay image should be placed on the original image\n",
    "x,y = coordinates\n",
    "# print(x,y)"
   ]
  },
  {
   "cell_type": "code",
   "execution_count": 8,
   "id": "d23f1594",
   "metadata": {},
   "outputs": [],
   "source": [
    "#overlaying\n",
    "Overlay = cv2.imread('overlay.jpg')\n",
    "h1, w1 = Overlay.shape[:2]\n",
    "region_of_interest = resized_image[y: y+h1, x:x + w1]\n",
    "gray = cv2.cvtColor(Overlay, cv2.COLOR_BGRA2GRAY)\n",
    "#cv2.imshow('Grayscale', gray)\n",
    "#cv2.waitKey(10000)\n",
    "#cv2.destroyAllWindows()\n",
    "_, mask = cv2.threshold(gray, 10, 255, cv2.THRESH_BINARY_INV)\n",
    "background_img = cv2.bitwise_and(region_of_interest, region_of_interest, mask = mask)\n",
    "final_image = cv2.add(background_img, Overlay)\n",
    "resized_image[y: y+h1, x:x + w1] = final_image"
   ]
  },
  {
   "cell_type": "code",
   "execution_count": 12,
   "id": "850f0082",
   "metadata": {},
   "outputs": [],
   "source": [
    "#Saving the border detected output\n",
    "cv2.imwrite(\"output.jpg\",resized_image)\n",
    "#Display output\n",
    "cv2.imshow('Output', resized_image)\n",
    "cv2.waitKey(10000)\n",
    "cv2.destroyAllWindows()"
   ]
  },
  {
   "cell_type": "code",
   "execution_count": null,
   "id": "a9994376",
   "metadata": {},
   "outputs": [],
   "source": []
  },
  {
   "cell_type": "code",
   "execution_count": 14,
   "id": "a009290a",
   "metadata": {},
   "outputs": [],
   "source": []
  },
  {
   "cell_type": "code",
   "execution_count": 15,
   "id": "dbbc7a8a",
   "metadata": {},
   "outputs": [
    {
     "data": {
      "text/plain": [
       "True"
      ]
     },
     "execution_count": 15,
     "metadata": {},
     "output_type": "execute_result"
    }
   ],
   "source": []
  },
  {
   "cell_type": "code",
   "execution_count": null,
   "id": "7953140b",
   "metadata": {},
   "outputs": [],
   "source": []
  }
 ],
 "metadata": {
  "kernelspec": {
   "display_name": "Python 3 (ipykernel)",
   "language": "python",
   "name": "python3"
  },
  "language_info": {
   "codemirror_mode": {
    "name": "ipython",
    "version": 3
   },
   "file_extension": ".py",
   "mimetype": "text/x-python",
   "name": "python",
   "nbconvert_exporter": "python",
   "pygments_lexer": "ipython3",
   "version": "3.9.12"
  }
 },
 "nbformat": 4,
 "nbformat_minor": 5
}
